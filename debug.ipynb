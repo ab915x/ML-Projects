{
 "cells": [
  {
   "cell_type": "code",
   "execution_count": 6,
   "id": "1b13e57d",
   "metadata": {},
   "outputs": [],
   "source": [
    "import numpy as np\n",
    "import pandas as pd\n",
    "\n",
    "# Это файл для обучения модели и сохранения ее в корне\n",
    "\n",
    "def extract_features(data: list) -> pd.DataFrame:\n",
    "    features = {\n",
    "    \"length\": [len(password) for password in data],\n",
    "    \"num_uppercase\": [sum(1 for c in password if c.isupper()) for password in data],\n",
    "    \"num_lowercase\": [sum(1 for c in password if c.islower()) for password in data],\n",
    "    \"num_digits\": [sum(1 for c in password if c.isdigit()) for password in data],\n",
    "    \"num_special\": [sum(1 for c in password if not c.isalnum()) for password in data],\n",
    "    \"unique_chars\": [len(set(password)) for password in data],\n",
    "    \"entropy\": [len(password) * np.log2(len(set(password))) if password else 0 for password in data],\n",
    "    }\n",
    "    return pd.DataFrame(features)\n",
    "\n"
   ]
  },
  {
   "cell_type": "code",
   "execution_count": 1,
   "id": "4389ee30",
   "metadata": {},
   "outputs": [],
   "source": [
    "from create_model import train_model\n",
    "from data_processing import extract_features_for_training\n",
    "import pandas as pd\n",
    "data = pd.read_csv(r'E:\\Downloads\\good.csv')\n",
    "data = extract_features_for_training(data)"
   ]
  },
  {
   "cell_type": "code",
   "execution_count": 2,
   "id": "44680e00",
   "metadata": {},
   "outputs": [
    {
     "name": "stdout",
     "output_type": "stream",
     "text": [
      "Learning rate set to 0.049638\n",
      "0:\tlearn: 0.4998132\ttest: 0.4999615\tbest: 0.4999615 (0)\ttotal: 136ms\tremaining: 2m 15s\n",
      "1:\tlearn: 0.4997381\ttest: 0.4999583\tbest: 0.4999583 (1)\ttotal: 136ms\tremaining: 1m 8s\n",
      "2:\tlearn: 0.4995563\ttest: 0.4998306\tbest: 0.4998306 (2)\ttotal: 137ms\tremaining: 45.6s\n",
      "3:\tlearn: 0.4994083\ttest: 0.4997534\tbest: 0.4997534 (3)\ttotal: 138ms\tremaining: 34.4s\n",
      "4:\tlearn: 0.4992582\ttest: 0.4999387\tbest: 0.4997534 (3)\ttotal: 139ms\tremaining: 27.7s\n",
      "5:\tlearn: 0.4991788\ttest: 0.4999034\tbest: 0.4997534 (3)\ttotal: 140ms\tremaining: 23.2s\n",
      "6:\tlearn: 0.4990726\ttest: 0.4999059\tbest: 0.4997534 (3)\ttotal: 141ms\tremaining: 20s\n",
      "7:\tlearn: 0.4989745\ttest: 0.4998646\tbest: 0.4997534 (3)\ttotal: 141ms\tremaining: 17.5s\n",
      "8:\tlearn: 0.4988923\ttest: 0.4998834\tbest: 0.4997534 (3)\ttotal: 142ms\tremaining: 15.7s\n",
      "9:\tlearn: 0.4987751\ttest: 0.4999862\tbest: 0.4997534 (3)\ttotal: 143ms\tremaining: 14.2s\n",
      "10:\tlearn: 0.4986499\ttest: 0.5000570\tbest: 0.4997534 (3)\ttotal: 144ms\tremaining: 12.9s\n",
      "11:\tlearn: 0.4985038\ttest: 0.5001198\tbest: 0.4997534 (3)\ttotal: 144ms\tremaining: 11.9s\n",
      "12:\tlearn: 0.4984453\ttest: 0.5002143\tbest: 0.4997534 (3)\ttotal: 145ms\tremaining: 11s\n",
      "13:\tlearn: 0.4984126\ttest: 0.5003543\tbest: 0.4997534 (3)\ttotal: 146ms\tremaining: 10.3s\n",
      "14:\tlearn: 0.4983909\ttest: 0.5003994\tbest: 0.4997534 (3)\ttotal: 146ms\tremaining: 9.6s\n",
      "15:\tlearn: 0.4983651\ttest: 0.5004445\tbest: 0.4997534 (3)\ttotal: 147ms\tremaining: 9.03s\n",
      "16:\tlearn: 0.4982042\ttest: 0.5002859\tbest: 0.4997534 (3)\ttotal: 148ms\tremaining: 8.56s\n",
      "17:\tlearn: 0.4980940\ttest: 0.5002188\tbest: 0.4997534 (3)\ttotal: 149ms\tremaining: 8.12s\n",
      "18:\tlearn: 0.4980755\ttest: 0.5002960\tbest: 0.4997534 (3)\ttotal: 149ms\tremaining: 7.71s\n",
      "19:\tlearn: 0.4980289\ttest: 0.5004020\tbest: 0.4997534 (3)\ttotal: 150ms\tremaining: 7.35s\n",
      "20:\tlearn: 0.4979627\ttest: 0.5003399\tbest: 0.4997534 (3)\ttotal: 151ms\tremaining: 7.02s\n",
      "21:\tlearn: 0.4978654\ttest: 0.5003476\tbest: 0.4997534 (3)\ttotal: 152ms\tremaining: 6.77s\n",
      "22:\tlearn: 0.4978320\ttest: 0.5002847\tbest: 0.4997534 (3)\ttotal: 153ms\tremaining: 6.5s\n",
      "23:\tlearn: 0.4977809\ttest: 0.5002622\tbest: 0.4997534 (3)\ttotal: 154ms\tremaining: 6.27s\n",
      "24:\tlearn: 0.4977032\ttest: 0.5003196\tbest: 0.4997534 (3)\ttotal: 155ms\tremaining: 6.05s\n",
      "25:\tlearn: 0.4976678\ttest: 0.5002753\tbest: 0.4997534 (3)\ttotal: 156ms\tremaining: 5.84s\n",
      "26:\tlearn: 0.4975351\ttest: 0.5001395\tbest: 0.4997534 (3)\ttotal: 157ms\tremaining: 5.64s\n",
      "27:\tlearn: 0.4974868\ttest: 0.5000927\tbest: 0.4997534 (3)\ttotal: 157ms\tremaining: 5.46s\n",
      "28:\tlearn: 0.4973819\ttest: 0.4999892\tbest: 0.4997534 (3)\ttotal: 158ms\tremaining: 5.29s\n",
      "29:\tlearn: 0.4973527\ttest: 0.5000829\tbest: 0.4997534 (3)\ttotal: 159ms\tremaining: 5.13s\n",
      "30:\tlearn: 0.4972857\ttest: 0.5001399\tbest: 0.4997534 (3)\ttotal: 159ms\tremaining: 4.98s\n",
      "31:\tlearn: 0.4971928\ttest: 0.5000262\tbest: 0.4997534 (3)\ttotal: 160ms\tremaining: 4.85s\n",
      "32:\tlearn: 0.4970373\ttest: 0.4998962\tbest: 0.4997534 (3)\ttotal: 161ms\tremaining: 4.72s\n",
      "33:\tlearn: 0.4969262\ttest: 0.4997330\tbest: 0.4997330 (33)\ttotal: 162ms\tremaining: 4.59s\n",
      "34:\tlearn: 0.4968727\ttest: 0.4997340\tbest: 0.4997330 (33)\ttotal: 163ms\tremaining: 4.48s\n",
      "35:\tlearn: 0.4968131\ttest: 0.4996120\tbest: 0.4996120 (35)\ttotal: 163ms\tremaining: 4.37s\n",
      "36:\tlearn: 0.4968090\ttest: 0.4996250\tbest: 0.4996120 (35)\ttotal: 164ms\tremaining: 4.27s\n",
      "37:\tlearn: 0.4967816\ttest: 0.4995463\tbest: 0.4995463 (37)\ttotal: 165ms\tremaining: 4.17s\n",
      "38:\tlearn: 0.4967346\ttest: 0.4995285\tbest: 0.4995285 (38)\ttotal: 166ms\tremaining: 4.08s\n",
      "39:\tlearn: 0.4966829\ttest: 0.4994967\tbest: 0.4994967 (39)\ttotal: 166ms\tremaining: 3.99s\n",
      "40:\tlearn: 0.4966067\ttest: 0.4993970\tbest: 0.4993970 (40)\ttotal: 167ms\tremaining: 3.91s\n",
      "41:\tlearn: 0.4965597\ttest: 0.4994698\tbest: 0.4993970 (40)\ttotal: 168ms\tremaining: 3.83s\n",
      "42:\tlearn: 0.4965323\ttest: 0.4995163\tbest: 0.4993970 (40)\ttotal: 169ms\tremaining: 3.75s\n",
      "43:\tlearn: 0.4964216\ttest: 0.4994102\tbest: 0.4993970 (40)\ttotal: 169ms\tremaining: 3.68s\n",
      "44:\tlearn: 0.4963270\ttest: 0.4994607\tbest: 0.4993970 (40)\ttotal: 170ms\tremaining: 3.61s\n",
      "45:\tlearn: 0.4963179\ttest: 0.4995374\tbest: 0.4993970 (40)\ttotal: 171ms\tremaining: 3.54s\n",
      "46:\tlearn: 0.4962919\ttest: 0.4995752\tbest: 0.4993970 (40)\ttotal: 171ms\tremaining: 3.47s\n",
      "47:\tlearn: 0.4962653\ttest: 0.4995611\tbest: 0.4993970 (40)\ttotal: 172ms\tremaining: 3.41s\n",
      "48:\tlearn: 0.4962430\ttest: 0.4994683\tbest: 0.4993970 (40)\ttotal: 173ms\tremaining: 3.35s\n",
      "49:\tlearn: 0.4961995\ttest: 0.4994627\tbest: 0.4993970 (40)\ttotal: 174ms\tremaining: 3.3s\n",
      "50:\tlearn: 0.4961517\ttest: 0.4994504\tbest: 0.4993970 (40)\ttotal: 174ms\tremaining: 3.24s\n",
      "51:\tlearn: 0.4961226\ttest: 0.4994983\tbest: 0.4993970 (40)\ttotal: 175ms\tremaining: 3.19s\n",
      "52:\tlearn: 0.4961028\ttest: 0.4994946\tbest: 0.4993970 (40)\ttotal: 176ms\tremaining: 3.14s\n",
      "53:\tlearn: 0.4960547\ttest: 0.4995040\tbest: 0.4993970 (40)\ttotal: 176ms\tremaining: 3.09s\n",
      "54:\tlearn: 0.4960274\ttest: 0.4995335\tbest: 0.4993970 (40)\ttotal: 177ms\tremaining: 3.04s\n",
      "55:\tlearn: 0.4960265\ttest: 0.4995456\tbest: 0.4993970 (40)\ttotal: 177ms\tremaining: 2.99s\n",
      "56:\tlearn: 0.4959959\ttest: 0.4995277\tbest: 0.4993970 (40)\ttotal: 178ms\tremaining: 2.95s\n",
      "57:\tlearn: 0.4959151\ttest: 0.4996150\tbest: 0.4993970 (40)\ttotal: 179ms\tremaining: 2.91s\n",
      "58:\tlearn: 0.4958759\ttest: 0.4996244\tbest: 0.4993970 (40)\ttotal: 180ms\tremaining: 2.87s\n",
      "59:\tlearn: 0.4958569\ttest: 0.4996338\tbest: 0.4993970 (40)\ttotal: 181ms\tremaining: 2.83s\n",
      "60:\tlearn: 0.4958301\ttest: 0.4996641\tbest: 0.4993970 (40)\ttotal: 181ms\tremaining: 2.79s\n",
      "61:\tlearn: 0.4958164\ttest: 0.4996646\tbest: 0.4993970 (40)\ttotal: 182ms\tremaining: 2.75s\n",
      "62:\tlearn: 0.4958034\ttest: 0.4996467\tbest: 0.4993970 (40)\ttotal: 182ms\tremaining: 2.71s\n",
      "63:\tlearn: 0.4957906\ttest: 0.4996139\tbest: 0.4993970 (40)\ttotal: 183ms\tremaining: 2.68s\n",
      "64:\tlearn: 0.4957895\ttest: 0.4996137\tbest: 0.4993970 (40)\ttotal: 184ms\tremaining: 2.64s\n",
      "65:\tlearn: 0.4957556\ttest: 0.4997552\tbest: 0.4993970 (40)\ttotal: 185ms\tremaining: 2.61s\n",
      "66:\tlearn: 0.4956579\ttest: 0.4998374\tbest: 0.4993970 (40)\ttotal: 185ms\tremaining: 2.58s\n",
      "67:\tlearn: 0.4956265\ttest: 0.4997998\tbest: 0.4993970 (40)\ttotal: 186ms\tremaining: 2.55s\n",
      "68:\tlearn: 0.4955920\ttest: 0.4998659\tbest: 0.4993970 (40)\ttotal: 187ms\tremaining: 2.52s\n",
      "69:\tlearn: 0.4955545\ttest: 0.4998494\tbest: 0.4993970 (40)\ttotal: 187ms\tremaining: 2.49s\n",
      "70:\tlearn: 0.4955444\ttest: 0.4998544\tbest: 0.4993970 (40)\ttotal: 188ms\tremaining: 2.46s\n",
      "71:\tlearn: 0.4954190\ttest: 0.4999225\tbest: 0.4993970 (40)\ttotal: 189ms\tremaining: 2.43s\n",
      "72:\tlearn: 0.4954181\ttest: 0.4999123\tbest: 0.4993970 (40)\ttotal: 189ms\tremaining: 2.4s\n",
      "73:\tlearn: 0.4954108\ttest: 0.4998913\tbest: 0.4993970 (40)\ttotal: 190ms\tremaining: 2.38s\n",
      "74:\tlearn: 0.4953812\ttest: 0.4998646\tbest: 0.4993970 (40)\ttotal: 190ms\tremaining: 2.35s\n",
      "75:\tlearn: 0.4953731\ttest: 0.4999016\tbest: 0.4993970 (40)\ttotal: 192ms\tremaining: 2.33s\n",
      "76:\tlearn: 0.4953578\ttest: 0.4998939\tbest: 0.4993970 (40)\ttotal: 192ms\tremaining: 2.3s\n",
      "77:\tlearn: 0.4953163\ttest: 0.4999509\tbest: 0.4993970 (40)\ttotal: 193ms\tremaining: 2.28s\n",
      "78:\tlearn: 0.4952667\ttest: 0.5000437\tbest: 0.4993970 (40)\ttotal: 194ms\tremaining: 2.26s\n",
      "79:\tlearn: 0.4952543\ttest: 0.5000303\tbest: 0.4993970 (40)\ttotal: 194ms\tremaining: 2.23s\n",
      "80:\tlearn: 0.4952534\ttest: 0.5000201\tbest: 0.4993970 (40)\ttotal: 195ms\tremaining: 2.21s\n",
      "81:\tlearn: 0.4952526\ttest: 0.5000224\tbest: 0.4993970 (40)\ttotal: 195ms\tremaining: 2.18s\n",
      "82:\tlearn: 0.4952381\ttest: 0.5001297\tbest: 0.4993970 (40)\ttotal: 196ms\tremaining: 2.16s\n",
      "83:\tlearn: 0.4951889\ttest: 0.5001505\tbest: 0.4993970 (40)\ttotal: 197ms\tremaining: 2.15s\n",
      "84:\tlearn: 0.4951686\ttest: 0.5001766\tbest: 0.4993970 (40)\ttotal: 197ms\tremaining: 2.13s\n",
      "85:\tlearn: 0.4951086\ttest: 0.5000903\tbest: 0.4993970 (40)\ttotal: 198ms\tremaining: 2.11s\n",
      "86:\tlearn: 0.4950731\ttest: 0.5001505\tbest: 0.4993970 (40)\ttotal: 199ms\tremaining: 2.09s\n",
      "87:\tlearn: 0.4950352\ttest: 0.5002390\tbest: 0.4993970 (40)\ttotal: 200ms\tremaining: 2.07s\n",
      "88:\tlearn: 0.4949839\ttest: 0.5002900\tbest: 0.4993970 (40)\ttotal: 200ms\tremaining: 2.05s\n",
      "89:\tlearn: 0.4949551\ttest: 0.5003447\tbest: 0.4993970 (40)\ttotal: 201ms\tremaining: 2.03s\n",
      "90:\tlearn: 0.4949539\ttest: 0.5003567\tbest: 0.4993970 (40)\ttotal: 201ms\tremaining: 2.01s\n",
      "Stopped by overfitting detector  (50 iterations wait)\n",
      "\n",
      "bestTest = 0.499396967\n",
      "bestIteration = 40\n",
      "\n",
      "Shrink model to first 41 iterations.\n"
     ]
    },
    {
     "name": "stderr",
     "output_type": "stream",
     "text": [
      "2025/07/05 01:35:49 WARNING mlflow.models.model: `artifact_path` is deprecated. Please use `name` instead.\n",
      "2025/07/05 01:35:56 WARNING mlflow.models.model: Model logged without a signature and input example. Please set `input_example` parameter when logging the model to auto infer the model signature.\n",
      "Registered model 'anton-belousov-fyb5457-mlops-project-model' already exists. Creating a new version of this model...\n",
      "Created version '2' of model 'anton-belousov-fyb5457-mlops-project-model'.\n"
     ]
    },
    {
     "data": {
      "text/plain": [
       "True"
      ]
     },
     "execution_count": 2,
     "metadata": {},
     "output_type": "execute_result"
    }
   ],
   "source": [
    "train_model(data)"
   ]
  },
  {
   "cell_type": "code",
   "execution_count": null,
   "id": "c22abf4d",
   "metadata": {},
   "outputs": [],
   "source": []
  }
 ],
 "metadata": {
  "kernelspec": {
   "display_name": ".venv",
   "language": "python",
   "name": "python3"
  },
  "language_info": {
   "codemirror_mode": {
    "name": "ipython",
    "version": 3
   },
   "file_extension": ".py",
   "mimetype": "text/x-python",
   "name": "python",
   "nbconvert_exporter": "python",
   "pygments_lexer": "ipython3",
   "version": "3.13.5"
  }
 },
 "nbformat": 4,
 "nbformat_minor": 5
}
